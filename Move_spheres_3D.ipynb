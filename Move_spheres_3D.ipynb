{
 "cells": [
  {
   "cell_type": "code",
   "execution_count": 1,
   "metadata": {},
   "outputs": [],
   "source": [
    "import numpy as np \n",
    "import cupy as cp\n",
    "import tiffile as tiff\n",
    "import matplotlib.pyplot as plt"
   ]
  },
  {
   "cell_type": "markdown",
   "metadata": {},
   "source": [
    "## Cylinder mask"
   ]
  },
  {
   "cell_type": "code",
   "execution_count": 2,
   "metadata": {},
   "outputs": [],
   "source": [
    "def circle_mask(size, radius):\n",
    "    mask = np.zeros([size, size, size], dtype = np.uint8)\n",
    "    X, Y = np.ogrid[:size, :size]\n",
    "    dist_from_center = np.sqrt((X - size // 2)**2 + (Y - size // 2)**2, dtype = np.float32)\n",
    "    mask = dist_from_center <= radius\n",
    "    return mask"
   ]
  },
  {
   "cell_type": "markdown",
   "metadata": {},
   "source": [
    "## Sphere generator"
   ]
  },
  {
   "cell_type": "code",
   "execution_count": 3,
   "metadata": {},
   "outputs": [],
   "source": [
    "def circle(size, center, radius):\n",
    "    mask = np.zeros([size, size, size], dtype = np.uint8)\n",
    "    X, Y, Z = np.ogrid[:size, :size, :size]\n",
    "    dist_from_center = np.sqrt((X - center[0])**2 + (Y-center[1])**2 + (Z-center[2])**2, dtype = np.float32)\n",
    "    mask = dist_from_center<= radius\n",
    "    return mask \n",
    "\n",
    "def circle_cuda(size, center, radius):\n",
    "    mask = cp.zeros([size, size, size], dtype = cp.uint8)\n",
    "    X, Y, Z = cp.ogrid[:size, :size, :size]\n",
    "    dist_from_center = cp.sqrt((X - center[0])**2 + (Y-center[1])**2 + (Z-center[2])**2, dtype = cp.float32)\n",
    "    mask = dist_from_center<= radius\n",
    "    return mask"
   ]
  },
  {
   "cell_type": "markdown",
   "metadata": {},
   "source": [
    "## 3D spheres packing generation "
   ]
  },
  {
   "cell_type": "code",
   "execution_count": 4,
   "metadata": {},
   "outputs": [],
   "source": [
    "# number of iterations\n",
    "N = 100\n",
    "\n",
    "# box size\n",
    "size = 512\n",
    "\n",
    "# maximum value of sphere radius variation (R_min + rand(0, 1)*delta)\n",
    "delta = 7 \n",
    "\n",
    "# minimal sphere radius\n",
    "r_min = 20\n",
    "\n",
    "box = cp.zeros([size, size, size], dtype = cp.uint8)\n",
    "\n",
    "x0 = cp.random.randint(0, size, 1)\n",
    "y0 = cp.random.randint(0, size, 1)\n",
    "z0 = cp.random.randint(0, size, 1)\n",
    "r0 = r_min + cp.random.random() * delta\n",
    "\n",
    "cent = [[x0, y0, z0]]\n",
    "radius = [r0]\n",
    "\n",
    "box += circle_cuda(size = size, center = [x0, y0, z0], radius = r0)\n",
    "\n",
    "# iterator\n",
    "i = 0\n",
    "\n",
    "while (i < N):\n",
    "    \n",
    "    #print(i)\n",
    "    \n",
    "    xi = cp.random.randint(0, size, 1)\n",
    "    yi = cp.random.randint(0, size, 1)\n",
    "    zi = cp.random.randint(0, size, 1)\n",
    "    \n",
    "    ri = r_min + cp.random.random() * delta\n",
    "    \n",
    "    circle_i = circle_cuda(size = size, center = [xi, yi, zi], radius = ri)\n",
    "    \n",
    "    if (len((box + circle_i)[cp.where((box + circle_i) == 2)]) == 0):\n",
    "        \n",
    "        box += circle_i\n",
    "        cent.append([xi, yi, zi])\n",
    "        radius.append(ri)\n",
    "        \n",
    "    i+=1"
   ]
  },
  {
   "cell_type": "markdown",
   "metadata": {},
   "source": [
    "## Move spheres"
   ]
  },
  {
   "cell_type": "code",
   "execution_count": null,
   "metadata": {},
   "outputs": [],
   "source": [
    "# number of iterations \n",
    "N = 1000 \n",
    "\n",
    "# maximal step size in pixels  \n",
    "step = 10\n",
    "\n",
    "# convert list of coordinates to numpy array\n",
    "arr_cent = cp.array(cent)\n",
    "arr_cent = cp.asnumpy(arr_cent)\n",
    "\n",
    "# save spheres radiuses\n",
    "np.save('move_3D/radius.npy', radius)\n",
    "\n",
    "# iterator\n",
    "i = 0 \n",
    "\n",
    "while (i < N):\n",
    "    \n",
    "    print(i)\n",
    "    \n",
    "    box = cp.zeros([size, size, size], dtype = cp.uint8)\n",
    "    \n",
    "    x = cp.asarray(arr_cent)[:, 0, 0]\n",
    "    y = cp.asarray(arr_cent)[:, 1, 0]\n",
    "    z = cp.asarray(arr_cent)[:, 2, 0]\n",
    "\n",
    "    idx = int(np.random.randint(0, len(arr_cent), 1))\n",
    "    \n",
    "    dx = (cp.random.random() - cp.random.random()) * cp.uint8(step)  \n",
    "    dy = (cp.random.random() - cp.random.random()) * cp.uint8(step)  \n",
    "    dz = (cp.random.random() - cp.random.random()) * cp.uint8(step)  \n",
    "    \n",
    "    x[idx] = x[idx] + dx\n",
    "    y[idx] = y[idx] + dy\n",
    "    z[idx] = z[idx] + dz\n",
    "   \n",
    "    for j in range(len(cent)):\n",
    "        circle_i = circle_cuda(size = size, center = [x[j], y[j], z[j]], radius = radius[j])\n",
    "        box += circle_i\n",
    "    \n",
    "    if (len(box[cp.where(box == 2)]) == 0): \n",
    "          \n",
    "        for k in range(len(cent)):\n",
    "            arr_cent[k, 0] = x.get()[k]\n",
    "            arr_cent[k, 1] = y.get()[k]\n",
    "            arr_cent[k, 2] = z.get()[k]\n",
    "            \n",
    "        # save spheres packing \n",
    "        tiff.imwrite('move_3D/frame_' + str(i) + '.tiff', box.get() * 255)\n",
    "        # save centers coordinates \n",
    "        np.save('move_3D/coord_' + str(i) + '.npy', arr_cent)\n",
    "        \n",
    "    i+=1"
   ]
  }
 ],
 "metadata": {
  "kernelspec": {
   "display_name": "Python 3",
   "language": "python",
   "name": "python3"
  },
  "language_info": {
   "codemirror_mode": {
    "name": "ipython",
    "version": 3
   },
   "file_extension": ".py",
   "mimetype": "text/x-python",
   "name": "python",
   "nbconvert_exporter": "python",
   "pygments_lexer": "ipython3",
   "version": "3.7.4"
  }
 },
 "nbformat": 4,
 "nbformat_minor": 4
}
